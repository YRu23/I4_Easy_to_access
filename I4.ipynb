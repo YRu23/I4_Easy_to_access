{
  "nbformat": 4,
  "nbformat_minor": 0,
  "metadata": {
    "colab": {
      "provenance": [],
      "authorship_tag": "ABX9TyNqOLB/9ns+cw/didoxKi5A",
      "include_colab_link": true
    },
    "kernelspec": {
      "name": "python3",
      "display_name": "Python 3"
    },
    "language_info": {
      "name": "python"
    }
  },
  "cells": [
    {
      "cell_type": "markdown",
      "metadata": {
        "id": "view-in-github",
        "colab_type": "text"
      },
      "source": [
        "<a href=\"https://colab.research.google.com/github/YRu23/I4_Easy_to_access/blob/main/I4.ipynb\" target=\"_parent\"><img src=\"https://colab.research.google.com/assets/colab-badge.svg\" alt=\"Open In Colab\"/></a>"
      ]
    },
    {
      "cell_type": "markdown",
      "source": [
        "### List of codes:"
      ],
      "metadata": {
        "id": "qYpZg6lhm_ZK"
      }
    },
    {
      "cell_type": "code",
      "execution_count": null,
      "metadata": {
        "id": "vNOvkKPQa5bu"
      },
      "outputs": [],
      "source": [
        "csv: https://www.kaggle.com/datasets/ashutoshdevpura/imdb-top-10000-movies-updated-august-2023/data\n",
        "zip: https://zenodo.org/records/7665868\n",
        "pdf: https://figshare.com/articles/dataset/_Statistical_Patterns_in_Movie_Rating_Behavior_/1529463"
      ]
    },
    {
      "cell_type": "markdown",
      "source": [
        "# CSV file"
      ],
      "metadata": {
        "id": "3Zz601RtnJkw"
      }
    },
    {
      "cell_type": "code",
      "source": [
        "# Step 1: Import necessary libraries\n",
        "import pandas as pd\n",
        "from google.colab import files"
      ],
      "metadata": {
        "id": "vRqdkALJjzlj"
      },
      "execution_count": null,
      "outputs": []
    },
    {
      "cell_type": "code",
      "source": [
        "# Step 2: Upload the file from your local system\n",
        "uploaded = files.upload()\n",
        "\n",
        "# Assuming the uploaded file name is 'movies.csv'\n",
        "csv_file_name = list(uploaded.keys())[0]  # This gets the name of the file\n"
      ],
      "metadata": {
        "colab": {
          "base_uri": "https://localhost:8080/",
          "height": 73
        },
        "id": "9vFbEsz6emjI",
        "outputId": "c792d080-b1b6-4f1e-8dac-a17709df020f"
      },
      "execution_count": null,
      "outputs": [
        {
          "output_type": "display_data",
          "data": {
            "text/plain": [
              "<IPython.core.display.HTML object>"
            ],
            "text/html": [
              "\n",
              "     <input type=\"file\" id=\"files-54b8c7b3-1412-4615-8dfb-08326139efd0\" name=\"files[]\" multiple disabled\n",
              "        style=\"border:none\" />\n",
              "     <output id=\"result-54b8c7b3-1412-4615-8dfb-08326139efd0\">\n",
              "      Upload widget is only available when the cell has been executed in the\n",
              "      current browser session. Please rerun this cell to enable.\n",
              "      </output>\n",
              "      <script>// Copyright 2017 Google LLC\n",
              "//\n",
              "// Licensed under the Apache License, Version 2.0 (the \"License\");\n",
              "// you may not use this file except in compliance with the License.\n",
              "// You may obtain a copy of the License at\n",
              "//\n",
              "//      http://www.apache.org/licenses/LICENSE-2.0\n",
              "//\n",
              "// Unless required by applicable law or agreed to in writing, software\n",
              "// distributed under the License is distributed on an \"AS IS\" BASIS,\n",
              "// WITHOUT WARRANTIES OR CONDITIONS OF ANY KIND, either express or implied.\n",
              "// See the License for the specific language governing permissions and\n",
              "// limitations under the License.\n",
              "\n",
              "/**\n",
              " * @fileoverview Helpers for google.colab Python module.\n",
              " */\n",
              "(function(scope) {\n",
              "function span(text, styleAttributes = {}) {\n",
              "  const element = document.createElement('span');\n",
              "  element.textContent = text;\n",
              "  for (const key of Object.keys(styleAttributes)) {\n",
              "    element.style[key] = styleAttributes[key];\n",
              "  }\n",
              "  return element;\n",
              "}\n",
              "\n",
              "// Max number of bytes which will be uploaded at a time.\n",
              "const MAX_PAYLOAD_SIZE = 100 * 1024;\n",
              "\n",
              "function _uploadFiles(inputId, outputId) {\n",
              "  const steps = uploadFilesStep(inputId, outputId);\n",
              "  const outputElement = document.getElementById(outputId);\n",
              "  // Cache steps on the outputElement to make it available for the next call\n",
              "  // to uploadFilesContinue from Python.\n",
              "  outputElement.steps = steps;\n",
              "\n",
              "  return _uploadFilesContinue(outputId);\n",
              "}\n",
              "\n",
              "// This is roughly an async generator (not supported in the browser yet),\n",
              "// where there are multiple asynchronous steps and the Python side is going\n",
              "// to poll for completion of each step.\n",
              "// This uses a Promise to block the python side on completion of each step,\n",
              "// then passes the result of the previous step as the input to the next step.\n",
              "function _uploadFilesContinue(outputId) {\n",
              "  const outputElement = document.getElementById(outputId);\n",
              "  const steps = outputElement.steps;\n",
              "\n",
              "  const next = steps.next(outputElement.lastPromiseValue);\n",
              "  return Promise.resolve(next.value.promise).then((value) => {\n",
              "    // Cache the last promise value to make it available to the next\n",
              "    // step of the generator.\n",
              "    outputElement.lastPromiseValue = value;\n",
              "    return next.value.response;\n",
              "  });\n",
              "}\n",
              "\n",
              "/**\n",
              " * Generator function which is called between each async step of the upload\n",
              " * process.\n",
              " * @param {string} inputId Element ID of the input file picker element.\n",
              " * @param {string} outputId Element ID of the output display.\n",
              " * @return {!Iterable<!Object>} Iterable of next steps.\n",
              " */\n",
              "function* uploadFilesStep(inputId, outputId) {\n",
              "  const inputElement = document.getElementById(inputId);\n",
              "  inputElement.disabled = false;\n",
              "\n",
              "  const outputElement = document.getElementById(outputId);\n",
              "  outputElement.innerHTML = '';\n",
              "\n",
              "  const pickedPromise = new Promise((resolve) => {\n",
              "    inputElement.addEventListener('change', (e) => {\n",
              "      resolve(e.target.files);\n",
              "    });\n",
              "  });\n",
              "\n",
              "  const cancel = document.createElement('button');\n",
              "  inputElement.parentElement.appendChild(cancel);\n",
              "  cancel.textContent = 'Cancel upload';\n",
              "  const cancelPromise = new Promise((resolve) => {\n",
              "    cancel.onclick = () => {\n",
              "      resolve(null);\n",
              "    };\n",
              "  });\n",
              "\n",
              "  // Wait for the user to pick the files.\n",
              "  const files = yield {\n",
              "    promise: Promise.race([pickedPromise, cancelPromise]),\n",
              "    response: {\n",
              "      action: 'starting',\n",
              "    }\n",
              "  };\n",
              "\n",
              "  cancel.remove();\n",
              "\n",
              "  // Disable the input element since further picks are not allowed.\n",
              "  inputElement.disabled = true;\n",
              "\n",
              "  if (!files) {\n",
              "    return {\n",
              "      response: {\n",
              "        action: 'complete',\n",
              "      }\n",
              "    };\n",
              "  }\n",
              "\n",
              "  for (const file of files) {\n",
              "    const li = document.createElement('li');\n",
              "    li.append(span(file.name, {fontWeight: 'bold'}));\n",
              "    li.append(span(\n",
              "        `(${file.type || 'n/a'}) - ${file.size} bytes, ` +\n",
              "        `last modified: ${\n",
              "            file.lastModifiedDate ? file.lastModifiedDate.toLocaleDateString() :\n",
              "                                    'n/a'} - `));\n",
              "    const percent = span('0% done');\n",
              "    li.appendChild(percent);\n",
              "\n",
              "    outputElement.appendChild(li);\n",
              "\n",
              "    const fileDataPromise = new Promise((resolve) => {\n",
              "      const reader = new FileReader();\n",
              "      reader.onload = (e) => {\n",
              "        resolve(e.target.result);\n",
              "      };\n",
              "      reader.readAsArrayBuffer(file);\n",
              "    });\n",
              "    // Wait for the data to be ready.\n",
              "    let fileData = yield {\n",
              "      promise: fileDataPromise,\n",
              "      response: {\n",
              "        action: 'continue',\n",
              "      }\n",
              "    };\n",
              "\n",
              "    // Use a chunked sending to avoid message size limits. See b/62115660.\n",
              "    let position = 0;\n",
              "    do {\n",
              "      const length = Math.min(fileData.byteLength - position, MAX_PAYLOAD_SIZE);\n",
              "      const chunk = new Uint8Array(fileData, position, length);\n",
              "      position += length;\n",
              "\n",
              "      const base64 = btoa(String.fromCharCode.apply(null, chunk));\n",
              "      yield {\n",
              "        response: {\n",
              "          action: 'append',\n",
              "          file: file.name,\n",
              "          data: base64,\n",
              "        },\n",
              "      };\n",
              "\n",
              "      let percentDone = fileData.byteLength === 0 ?\n",
              "          100 :\n",
              "          Math.round((position / fileData.byteLength) * 100);\n",
              "      percent.textContent = `${percentDone}% done`;\n",
              "\n",
              "    } while (position < fileData.byteLength);\n",
              "  }\n",
              "\n",
              "  // All done.\n",
              "  yield {\n",
              "    response: {\n",
              "      action: 'complete',\n",
              "    }\n",
              "  };\n",
              "}\n",
              "\n",
              "scope.google = scope.google || {};\n",
              "scope.google.colab = scope.google.colab || {};\n",
              "scope.google.colab._files = {\n",
              "  _uploadFiles,\n",
              "  _uploadFilesContinue,\n",
              "};\n",
              "})(self);\n",
              "</script> "
            ]
          },
          "metadata": {}
        },
        {
          "output_type": "stream",
          "name": "stdout",
          "text": [
            "Saving movies.csv to movies (1).csv\n"
          ]
        }
      ]
    },
    {
      "cell_type": "code",
      "source": [
        "# Step 3: Read the CSV file into a DataFrame\n",
        "data = pd.read_csv(csv_file_name)"
      ],
      "metadata": {
        "id": "3tM53zjVeq1i"
      },
      "execution_count": null,
      "outputs": []
    },
    {
      "cell_type": "code",
      "source": [
        "# Step 4: Print the first few rows of the DataFrame\n",
        "print(data.head())"
      ],
      "metadata": {
        "colab": {
          "base_uri": "https://localhost:8080/"
        },
        "id": "vohOWFYQfIwZ",
        "outputId": "771b0bad-103c-4814-eca8-c7eb93cdd410"
      },
      "execution_count": null,
      "outputs": [
        {
          "output_type": "stream",
          "name": "stdout",
          "text": [
            "                                 title  year  runtime certificate  \\\n",
            "0             The Shawshank Redemption  1994      142           R   \n",
            "1                        The Godfather  1972      175           R   \n",
            "2  Ramayana: The Legend of Prince Rama  1993      135          PG   \n",
            "3                      The Chaos Class  1975       87         NaN   \n",
            "4                                Daman  2022      121         NaN   \n",
            "\n",
            "                          genre  \\\n",
            "0                         Drama   \n",
            "1                  Crime, Drama   \n",
            "2  Animation, Action, Adventure   \n",
            "3                 Comedy, Drama   \n",
            "4              Adventure, Drama   \n",
            "\n",
            "                                            director  \\\n",
            "0  ['Frank Darabont', 'Tim Robbins', 'Morgan Free...   \n",
            "1  ['Francis Ford Coppola', 'Marlon Brando', 'Al ...   \n",
            "2  ['Ram Mohan', 'Yûgô Sakô', 'Koichi Saski', 'Ar...   \n",
            "3  ['Ertem Egilmez', 'Kemal Sunal', 'Münir Özkul'...   \n",
            "4  ['Lenka Debiprasad', 'Vishal Mourya', 'Karan K...   \n",
            "\n",
            "                                               stars  rating  metascore  \\\n",
            "0  ['Tim Robbins', 'Morgan Freeman', 'Bob Gunton'...     9.3       82.0   \n",
            "1  ['Marlon Brando', 'Al Pacino', 'James Caan', '...     9.2      100.0   \n",
            "2  ['Yûgô Sakô', 'Koichi Saski', 'Arun Govil', 'N...     9.2        NaN   \n",
            "3  ['Kemal Sunal', 'Münir Özkul', 'Halit Akçatepe...     9.2        NaN   \n",
            "4  ['Vishal Mourya', 'Karan Kandhapan', 'Babushan...     9.1        NaN   \n",
            "\n",
            "     votes   gross  \n",
            "0  2780534   28.34  \n",
            "1  1935895  134.97  \n",
            "2    12470     NaN  \n",
            "3    42018     NaN  \n",
            "4    13372     NaN  \n"
          ]
        }
      ]
    },
    {
      "cell_type": "markdown",
      "source": [
        "Pros:\n",
        "- easy to access. The CSV file is straightfoward and easy to understand.\n",
        "- CSV file could be access, read and edit directly.\n",
        "- widely supported in most platforms and systems.\n",
        "\n",
        "Cons:\n",
        "- require data cleaning before using data in csv file as they do not have a standard format in handling special characters\n",
        "- the loading process takes longer with large datasets"
      ],
      "metadata": {
        "id": "QWJ81lJKjY3x"
      }
    },
    {
      "cell_type": "markdown",
      "source": [
        "# Zip file"
      ],
      "metadata": {
        "id": "vkfVxzk1nNiY"
      }
    },
    {
      "cell_type": "code",
      "source": [
        "# Step 1: Import necessary libraries\n",
        "import zipfile\n",
        "from google.colab import files\n",
        "import os"
      ],
      "metadata": {
        "id": "5XMr-TXTfKqS"
      },
      "execution_count": null,
      "outputs": []
    },
    {
      "cell_type": "code",
      "source": [
        "# Step 2: Upload the ZIP file from your local system\n",
        "uploaded = files.upload()\n",
        "zip_file_name = list(uploaded.keys())[0]  # This gets the name of the file"
      ],
      "metadata": {
        "colab": {
          "base_uri": "https://localhost:8080/",
          "height": 73
        },
        "id": "UKanvWyejv5V",
        "outputId": "c19d0491-6778-4a7d-981e-3e86079fcfd9"
      },
      "execution_count": null,
      "outputs": [
        {
          "output_type": "display_data",
          "data": {
            "text/plain": [
              "<IPython.core.display.HTML object>"
            ],
            "text/html": [
              "\n",
              "     <input type=\"file\" id=\"files-d9286af8-ef72-4275-abc5-854821dff164\" name=\"files[]\" multiple disabled\n",
              "        style=\"border:none\" />\n",
              "     <output id=\"result-d9286af8-ef72-4275-abc5-854821dff164\">\n",
              "      Upload widget is only available when the cell has been executed in the\n",
              "      current browser session. Please rerun this cell to enable.\n",
              "      </output>\n",
              "      <script>// Copyright 2017 Google LLC\n",
              "//\n",
              "// Licensed under the Apache License, Version 2.0 (the \"License\");\n",
              "// you may not use this file except in compliance with the License.\n",
              "// You may obtain a copy of the License at\n",
              "//\n",
              "//      http://www.apache.org/licenses/LICENSE-2.0\n",
              "//\n",
              "// Unless required by applicable law or agreed to in writing, software\n",
              "// distributed under the License is distributed on an \"AS IS\" BASIS,\n",
              "// WITHOUT WARRANTIES OR CONDITIONS OF ANY KIND, either express or implied.\n",
              "// See the License for the specific language governing permissions and\n",
              "// limitations under the License.\n",
              "\n",
              "/**\n",
              " * @fileoverview Helpers for google.colab Python module.\n",
              " */\n",
              "(function(scope) {\n",
              "function span(text, styleAttributes = {}) {\n",
              "  const element = document.createElement('span');\n",
              "  element.textContent = text;\n",
              "  for (const key of Object.keys(styleAttributes)) {\n",
              "    element.style[key] = styleAttributes[key];\n",
              "  }\n",
              "  return element;\n",
              "}\n",
              "\n",
              "// Max number of bytes which will be uploaded at a time.\n",
              "const MAX_PAYLOAD_SIZE = 100 * 1024;\n",
              "\n",
              "function _uploadFiles(inputId, outputId) {\n",
              "  const steps = uploadFilesStep(inputId, outputId);\n",
              "  const outputElement = document.getElementById(outputId);\n",
              "  // Cache steps on the outputElement to make it available for the next call\n",
              "  // to uploadFilesContinue from Python.\n",
              "  outputElement.steps = steps;\n",
              "\n",
              "  return _uploadFilesContinue(outputId);\n",
              "}\n",
              "\n",
              "// This is roughly an async generator (not supported in the browser yet),\n",
              "// where there are multiple asynchronous steps and the Python side is going\n",
              "// to poll for completion of each step.\n",
              "// This uses a Promise to block the python side on completion of each step,\n",
              "// then passes the result of the previous step as the input to the next step.\n",
              "function _uploadFilesContinue(outputId) {\n",
              "  const outputElement = document.getElementById(outputId);\n",
              "  const steps = outputElement.steps;\n",
              "\n",
              "  const next = steps.next(outputElement.lastPromiseValue);\n",
              "  return Promise.resolve(next.value.promise).then((value) => {\n",
              "    // Cache the last promise value to make it available to the next\n",
              "    // step of the generator.\n",
              "    outputElement.lastPromiseValue = value;\n",
              "    return next.value.response;\n",
              "  });\n",
              "}\n",
              "\n",
              "/**\n",
              " * Generator function which is called between each async step of the upload\n",
              " * process.\n",
              " * @param {string} inputId Element ID of the input file picker element.\n",
              " * @param {string} outputId Element ID of the output display.\n",
              " * @return {!Iterable<!Object>} Iterable of next steps.\n",
              " */\n",
              "function* uploadFilesStep(inputId, outputId) {\n",
              "  const inputElement = document.getElementById(inputId);\n",
              "  inputElement.disabled = false;\n",
              "\n",
              "  const outputElement = document.getElementById(outputId);\n",
              "  outputElement.innerHTML = '';\n",
              "\n",
              "  const pickedPromise = new Promise((resolve) => {\n",
              "    inputElement.addEventListener('change', (e) => {\n",
              "      resolve(e.target.files);\n",
              "    });\n",
              "  });\n",
              "\n",
              "  const cancel = document.createElement('button');\n",
              "  inputElement.parentElement.appendChild(cancel);\n",
              "  cancel.textContent = 'Cancel upload';\n",
              "  const cancelPromise = new Promise((resolve) => {\n",
              "    cancel.onclick = () => {\n",
              "      resolve(null);\n",
              "    };\n",
              "  });\n",
              "\n",
              "  // Wait for the user to pick the files.\n",
              "  const files = yield {\n",
              "    promise: Promise.race([pickedPromise, cancelPromise]),\n",
              "    response: {\n",
              "      action: 'starting',\n",
              "    }\n",
              "  };\n",
              "\n",
              "  cancel.remove();\n",
              "\n",
              "  // Disable the input element since further picks are not allowed.\n",
              "  inputElement.disabled = true;\n",
              "\n",
              "  if (!files) {\n",
              "    return {\n",
              "      response: {\n",
              "        action: 'complete',\n",
              "      }\n",
              "    };\n",
              "  }\n",
              "\n",
              "  for (const file of files) {\n",
              "    const li = document.createElement('li');\n",
              "    li.append(span(file.name, {fontWeight: 'bold'}));\n",
              "    li.append(span(\n",
              "        `(${file.type || 'n/a'}) - ${file.size} bytes, ` +\n",
              "        `last modified: ${\n",
              "            file.lastModifiedDate ? file.lastModifiedDate.toLocaleDateString() :\n",
              "                                    'n/a'} - `));\n",
              "    const percent = span('0% done');\n",
              "    li.appendChild(percent);\n",
              "\n",
              "    outputElement.appendChild(li);\n",
              "\n",
              "    const fileDataPromise = new Promise((resolve) => {\n",
              "      const reader = new FileReader();\n",
              "      reader.onload = (e) => {\n",
              "        resolve(e.target.result);\n",
              "      };\n",
              "      reader.readAsArrayBuffer(file);\n",
              "    });\n",
              "    // Wait for the data to be ready.\n",
              "    let fileData = yield {\n",
              "      promise: fileDataPromise,\n",
              "      response: {\n",
              "        action: 'continue',\n",
              "      }\n",
              "    };\n",
              "\n",
              "    // Use a chunked sending to avoid message size limits. See b/62115660.\n",
              "    let position = 0;\n",
              "    do {\n",
              "      const length = Math.min(fileData.byteLength - position, MAX_PAYLOAD_SIZE);\n",
              "      const chunk = new Uint8Array(fileData, position, length);\n",
              "      position += length;\n",
              "\n",
              "      const base64 = btoa(String.fromCharCode.apply(null, chunk));\n",
              "      yield {\n",
              "        response: {\n",
              "          action: 'append',\n",
              "          file: file.name,\n",
              "          data: base64,\n",
              "        },\n",
              "      };\n",
              "\n",
              "      let percentDone = fileData.byteLength === 0 ?\n",
              "          100 :\n",
              "          Math.round((position / fileData.byteLength) * 100);\n",
              "      percent.textContent = `${percentDone}% done`;\n",
              "\n",
              "    } while (position < fileData.byteLength);\n",
              "  }\n",
              "\n",
              "  // All done.\n",
              "  yield {\n",
              "    response: {\n",
              "      action: 'complete',\n",
              "    }\n",
              "  };\n",
              "}\n",
              "\n",
              "scope.google = scope.google || {};\n",
              "scope.google.colab = scope.google.colab || {};\n",
              "scope.google.colab._files = {\n",
              "  _uploadFiles,\n",
              "  _uploadFilesContinue,\n",
              "};\n",
              "})(self);\n",
              "</script> "
            ]
          },
          "metadata": {}
        },
        {
          "output_type": "stream",
          "name": "stdout",
          "text": [
            "Saving Movies_and_Ratings.zip to Movies_and_Ratings.zip\n"
          ]
        }
      ]
    },
    {
      "cell_type": "code",
      "source": [
        "# Step 3: Extract the ZIP file\n",
        "with zipfile.ZipFile(zip_file_name, 'r') as zip_ref:\n",
        "    # Create a directory to extract the files\n",
        "    extract_path = \"/content/extracted_files\"\n",
        "    os.makedirs(extract_path, exist_ok=True)\n",
        "    zip_ref.extractall(extract_path)\n",
        "    print(f\"Extracted files to {extract_path}\")"
      ],
      "metadata": {
        "colab": {
          "base_uri": "https://localhost:8080/"
        },
        "id": "nY6VtVQ9m67G",
        "outputId": "51aac127-2e9a-492a-c806-f19ee51879ca"
      },
      "execution_count": null,
      "outputs": [
        {
          "output_type": "stream",
          "name": "stdout",
          "text": [
            "Extracted files to /content/extracted_files\n"
          ]
        }
      ]
    },
    {
      "cell_type": "code",
      "source": [
        "# Step 4: List files in the extraction directory to confirm\n",
        "extracted_files = os.listdir(extract_path)\n",
        "print(\"Files in the extracted directory:\")\n",
        "print(extracted_files)"
      ],
      "metadata": {
        "colab": {
          "base_uri": "https://localhost:8080/"
        },
        "id": "gaY7WL_WoE3a",
        "outputId": "996ff9c7-e07a-4e4c-b0f1-a5968a96788e"
      },
      "execution_count": null,
      "outputs": [
        {
          "output_type": "stream",
          "name": "stdout",
          "text": [
            "Files in the extracted directory:\n",
            "['movies.csv', 'ratings.csv']\n"
          ]
        }
      ]
    },
    {
      "cell_type": "code",
      "source": [
        "import pandas as pd\n",
        "\n",
        "def print_csv_sample(file_name):\n",
        "    file_path = os.path.join(extract_path, file_name)\n",
        "    if os.path.exists(file_path):\n",
        "        try:\n",
        "            # Try reading the CSV file with error handling\n",
        "            data = pd.read_csv(file_path, on_bad_lines='skip')\n",
        "            print(f\"Sample data from {file_name}:\")\n",
        "            print(data.head())\n",
        "        except Exception as e:\n",
        "            print(f\"Failed to read {file_name}: {str(e)}\")\n",
        "    else:\n",
        "        print(f\"{file_name} not found in the extracted files.\")\n",
        "\n",
        "# Read and print samples from 'movies.csv' and 'ratings.csv'\n",
        "print_csv_sample('movies.csv')\n",
        "print_csv_sample('ratings.csv')"
      ],
      "metadata": {
        "colab": {
          "base_uri": "https://localhost:8080/"
        },
        "id": "c5Mlb-rBpFxH",
        "outputId": "6b75e365-8b74-4061-e01a-51b7138a0611"
      },
      "execution_count": null,
      "outputs": [
        {
          "output_type": "stream",
          "name": "stdout",
          "text": [
            "Sample data from movies.csv:\n",
            "                                                                                                                                                                                                                                                                MovieID\\t\"Title\"\\t\"Release_date\"\\t\"Budget\"\\t\"Genres\"\\t\"Spoken_languages\"\n",
            "1\\t\"Toy Story\"\\t\"1995-10-30\"\\t\"30000000\"\\t\"[{\\\"...  \\\"name\\\": \\\"Animation\\\"}                           {\\\"id\\\": 35               \\\"name\\\": \\\"Comedy\\\"}                              {\\\"id\\\": 10751            \\\"name\\\": \\\"Family\\\"}]\"\\t\"[{\\\"name\\\": \\\"English\\\"                           \\\"iso_639_1\\\": \\\"en\\\"}]\"                      \n",
            "3\\t\"Grumpier Old Men\"\\t\"1995-12-22\"\\t\"0\"\\t\"[{\\\"...  \\\"name\\\": \\\"Romance\\\"}                             {\\\"id\\\": 35               \\\"name\\\": \\\"Comedy\\\"}]\"\\t\"[{\\\"name\\\": \\\"English\\\"  \\\"iso_639_1\\\": \\\"en\\\"}]\" NaN                                                                                               NaN                      \n",
            "4\\t\"Waiting to Exhale\"\\t\"1995-12-22\"\\t\"16000000...  \\\"name\\\": \\\"Comedy\\\"}                              {\\\"id\\\": 18               \\\"name\\\": \\\"Drama\\\"}                               {\\\"id\\\": 10749            \\\"name\\\": \\\"Romance\\\"}]\"\\t\"[{\\\"name\\\": \\\"Engli...                           \\\"iso_639_1\\\": \\\"en\\\"}]\"                      \n",
            "5\\t\"Father of the Bride Part II\"\\t\"1995-02-10\"\\...  \\\"name\\\": \\\"Comedy\\\"}]\"\\t\"[{\\\"name\\\": \\\"English\\\"  \\\"iso_639_1\\\": \\\"en\\\"}]\" NaN                                                NaN                       NaN                                                                                               NaN                      \n",
            "7\\t\"Sabrina\"\\t\"1995-12-15\"\\t\"58000000\"\\t\"[{\\\"id...  \\\"name\\\": \\\"Comedy\\\"}                              {\\\"id\\\": 10749            \\\"name\\\": \\\"Romance\\\"}]\"\\t\"[{\\\"name\\\": \\\"Franç...  \\\"iso_639_1\\\": \\\"fr\\\"}    {\\\"name\\\": \\\"English\\\"                                                      \\\"iso_639_1\\\": \\\"en\\\"}]\"                      \n",
            "Sample data from ratings.csv:\n",
            "   userId  movieId  rating  timestamp\n",
            "0   58365       31     3.0  836391314\n",
            "1   58365       32     5.0  836391153\n",
            "2   58365       34     4.0  836391124\n",
            "3   58365       44     4.0  836391253\n",
            "4   58365       48     3.0  836391292\n"
          ]
        }
      ]
    },
    {
      "cell_type": "markdown",
      "source": [
        "Pros:\n",
        "- simplify the file management and transfer as multiple files are bundle into one.\n",
        "- efficient in downloading multiple files.\n",
        "\n",
        "Cons:\n",
        "- longer processing time required to upload the and read the file."
      ],
      "metadata": {
        "id": "gUnkJK13qkvT"
      }
    },
    {
      "cell_type": "markdown",
      "source": [],
      "metadata": {
        "id": "DFoAsDINrso8"
      }
    },
    {
      "cell_type": "code",
      "source": [
        "import requests\n",
        "\n",
        "def fetch_json_sample(url):\n",
        "    # Send a GET request to the URL\n",
        "    response = requests.get(url)\n",
        "\n",
        "       # Check if the request was successful\n",
        "    if response.status_code == 200:\n",
        "        # Convert the JSON response to a Python dictionary\n",
        "        data = response.json()\n",
        "\n",
        "        # Print a sample of the data\n",
        "        # We'll print the keys of the dictionary and a part of the data for insight\n",
        "        print(\"Keys in the JSON data:\", data.keys())\n",
        "        # Assuming the data contains a list of entries under 'data', print the first few\n",
        "        if 'data' in data:\n",
        "            print(\"Sample entries from 'data':\")\n",
        "            for entry in data['data'][:5]:  # Adjust the slice as needed to print more or less\n",
        "                print(entry)\n",
        "        else:\n",
        "            print(\"No 'data' key found. Here's the full JSON data for reference:\")\n",
        "            print(data)\n",
        "    else:\n",
        "        print(\"Failed to retrieve data:\", response.status_code)\n",
        "\n",
        "# URL link\n",
        "url = 'https://data.cityofnewyork.us/api/views/c3uy-2p5r/rows.json?accessType=DOWNLOAD'\n",
        "fetch_json_sample(url)"
      ],
      "metadata": {
        "colab": {
          "base_uri": "https://localhost:8080/"
        },
        "id": "B5E6lnmGrrsO",
        "outputId": "cc9e2000-a26f-4cef-ff2e-5266c96b7242"
      },
      "execution_count": null,
      "outputs": [
        {
          "output_type": "stream",
          "name": "stdout",
          "text": [
            "Keys in the JSON data: dict_keys(['meta', 'data'])\n",
            "Sample entries from 'data':\n",
            "['row-bd3j-mxka-rfdy', '00000000-0000-0000-33D4-298A0260170E', 0, 1712774929, None, 1712774929, None, '{ }', '179772', '640', 'Boiler Emissions- Total SO2 Emissions', 'Number per km2', 'number', 'UHF42', '409', 'Southeast Queens', '2015', '2015-01-01T00:00:00', '0.3', None]\n",
            "['row-sssh.drev~5ik7', '00000000-0000-0000-824A-2029F18E2D9F', 0, 1712774929, None, 1712774929, None, '{ }', '179785', '640', 'Boiler Emissions- Total SO2 Emissions', 'Number per km2', 'number', 'UHF42', '209', 'Bensonhurst - Bay Ridge', '2015', '2015-01-01T00:00:00', '1.2', None]\n",
            "['row-6u49_s7nm~hh25', '00000000-0000-0000-1A79-0D17226D2164', 0, 1712774929, None, 1712774929, None, '{ }', '178540', '365', 'Fine particles (PM 2.5)', 'Mean', 'mcg/m3', 'UHF42', '209', 'Bensonhurst - Bay Ridge', 'Annual Average 2012', '2011-12-01T00:00:00', '8.6', None]\n",
            "['row-vcdn-vcmh.z49y', '00000000-0000-0000-ACBD-04C1AFFF3BFF', 0, 1712774929, None, 1712774929, None, '{ }', '178561', '365', 'Fine particles (PM 2.5)', 'Mean', 'mcg/m3', 'UHF42', '409', 'Southeast Queens', 'Annual Average 2012', '2011-12-01T00:00:00', '8.0', None]\n",
            "['row-iha2.hwnh.jw9x', '00000000-0000-0000-BEC0-66D1B75F989D', 0, 1712774929, None, 1712774929, None, '{ }', '823217', '365', 'Fine particles (PM 2.5)', 'Mean', 'mcg/m3', 'UHF42', '409', 'Southeast Queens', 'Summer 2022', '2022-06-01T00:00:00', '6.1', None]\n"
          ]
        }
      ]
    },
    {
      "cell_type": "markdown",
      "source": [
        "Pros:\n",
        "- easy to access and process the data\n",
        "- JSOn file could easily read, understand the - structure.\n",
        "- supported by APIs easy to access with various types of applications.\n",
        "\n",
        "Cons:\n",
        "- might be challenging to process  lage dataset\n",
        "- JSON would require converting the string format into native data structures used by specific types of programming language."
      ],
      "metadata": {
        "id": "_aU8TjC-vThh"
      }
    }
  ]
}